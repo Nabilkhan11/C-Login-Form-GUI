{
  "nbformat": 4,
  "nbformat_minor": 0,
  "metadata": {
    "colab": {
      "provenance": [],
      "authorship_tag": "ABX9TyNZpUwTRrUkXl/gzcIaRK98",
      "include_colab_link": true
    },
    "kernelspec": {
      "name": "python3",
      "display_name": "Python 3"
    },
    "language_info": {
      "name": "python"
    }
  },
  "cells": [
    {
      "cell_type": "markdown",
      "metadata": {
        "id": "view-in-github",
        "colab_type": "text"
      },
      "source": [
        "<a href=\"https://colab.research.google.com/github/Nabilkhan11/C-plus-plus-Login-Form-GUI/blob/main/Untitled0.ipynb\" target=\"_parent\"><img src=\"https://colab.research.google.com/assets/colab-badge.svg\" alt=\"Open In Colab\"/></a>"
      ]
    },
    {
      "cell_type": "code",
      "execution_count": 9,
      "metadata": {
        "id": "BbweBwRoH179",
        "colab": {
          "base_uri": "https://localhost:8080/"
        },
        "outputId": "e2d03a69-f232-403e-8eda-7831f266fe6f"
      },
      "outputs": [
        {
          "output_type": "stream",
          "name": "stdout",
          "text": [
            "My name is jsad\n",
            "I belong to f\n",
            "My phone number is asd\n",
            "Email is sdf\n",
            "My Qualification is dfsg\n",
            "My Marks fdgs\n",
            "I am df\n",
            "I want to become a gfsd\n",
            "    \n",
            "My name is jsad\n",
            "I Belong to f\n",
            "My Email is sdf\n",
            "My Phone Number is asd\n",
            "My Qualification is dfsg\n",
            "My Marks are fdgs\n",
            "I am df\n",
            "I want to become a gfsd\n"
          ]
        }
      ],
      "source": [
        "Name = input(\"My name is \")\n",
        "Address = input(\"I belong to \")\n",
        "Phone = input(\"My phone number is \")\n",
        "Email = input(\"Email is \")\n",
        "Education = input(\"My Qualification is \")\n",
        "Marks = input(\"My Marks \")\n",
        "EmploymentStatus = input(\"I am \")\n",
        "YourFutureGoal = input(\"I want to become a \")\n",
        "print(\"   \")\n",
        "print(f\"My name is {Name}\\nI Belong to {Address}\\nMy Email is {Email}\\nMy Phone Number is {Phone}\\nMy Qualification is {Education}\\nMy Marks are {Marks}\\nI am {EmploymentStatus}\\nI want to become a {YourFutureGoal}\")\n"
      ]
    },
    {
      "cell_type": "markdown",
      "source": [],
      "metadata": {
        "id": "4C71iXAUv8OF"
      }
    }
  ]
}